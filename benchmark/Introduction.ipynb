{
 "cells": [
  {
   "cell_type": "markdown",
   "metadata": {},
   "source": [
    "<a href=\"https://www.quantrocket.com\"><img alt=\"QuantRocket logo\" src=\"https://www.quantrocket.com/assets/img/notebook-header-logo.png\"></a>\n",
    "\n",
    "<a href=\"https://www.quantrocket.com/disclaimer/\">Disclaimer</a>"
   ]
  },
  {
   "cell_type": "markdown",
   "metadata": {},
   "source": [
    "# Moonshot Benchmarks\n",
    "\n",
    "This repository provides equal-weighted and dollar-volume-weighted benchmark strategies for Moonshot.\n",
    "\n",
    "You can construct the benchmark strategy with the same universe of securities used in the trading strategy you want to compare to create a more meaningful benchmark than standard indexes like the S&P 500. "
   ]
  },
  {
   "cell_type": "markdown",
   "metadata": {},
   "source": [
    "## Usage\n",
    "\n",
    "The strategies provided in [benchmark.py](benchmark.py) are base classes and must be subclassed. Provide a `CODE` and `DB` (and optionally `UNIVERSES` and `EXCLUDE_UNIVERSES`):\n",
    "\n",
    "```python  \n",
    "from codeload.benchmark import EqualWeightedIndex\n",
    "\n",
    "class CanadaEqualWeightedIndex(EqualWeightedIndex):\n",
    "\n",
    "    CODE = \"canada-benchmark\"\n",
    "    DB = \"canada-stk-1d\"\n",
    "```\n",
    "\n",
    "You can filter the universe by minimum average dollar volume: \n",
    "   \n",
    "```python    \n",
    "class CanadaEqualWeightedIndex(EqualWeightedIndex):\n",
    "\n",
    "    CODE = \"canada-benchmark\"\n",
    "    DB = \"canada-stk-1d\"\n",
    "    MIN_DOLLAR_VOLUME = 1e6\n",
    "```\n",
    "\n",
    "Or by dollar volume rank:\n",
    "\n",
    "```python\n",
    "class CanadaEqualWeightedIndex(EqualWeightedIndex):\n",
    "\n",
    "    CODE = \"canada-benchmark\"\n",
    "    DB = \"canada-stk-1d\"\n",
    "    DOLLAR_VOLUME_TOP_N_PCT = 50\n",
    "```\n",
    "\n",
    "A dollar-volume weighted variant is also provided:\n",
    "\n",
    "```python\n",
    "from codeload.benchmark import DollarVolumeWeightedIndex\n",
    "\n",
    "class JapanDollarVolumeWeightedIndex(DollarVolumeWeightedIndex):\n",
    "\n",
    "    CODE = \"japan-benchmark\"\n",
    "    DB = \"japan-stk-1d\"\n",
    "```\n",
    "\n",
    "Adapt the strategies as needed to mirror the trading rules, minus alpha factors, of the strategy you want to compare."
   ]
  }
 ],
 "metadata": {
  "kernelspec": {
   "display_name": "Python 3",
   "language": "python",
   "name": "python3"
  },
  "language_info": {
   "codemirror_mode": {
    "name": "ipython",
    "version": 3
   },
   "file_extension": ".py",
   "mimetype": "text/x-python",
   "name": "python",
   "nbconvert_exporter": "python",
   "pygments_lexer": "ipython3",
   "version": "3.6.6"
  }
 },
 "nbformat": 4,
 "nbformat_minor": 2
}
